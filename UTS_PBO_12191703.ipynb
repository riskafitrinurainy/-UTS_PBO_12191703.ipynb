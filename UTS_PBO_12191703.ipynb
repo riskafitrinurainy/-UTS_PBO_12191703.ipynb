{
 "cells": [
  {
   "cell_type": "code",
   "execution_count": 1,
   "metadata": {},
   "outputs": [],
   "source": [
    "# UTS PBO\n",
    "# Nama  : Riska Fitri Nur Ainy\n",
    "# NIM   : 12191703 (Kelas Malam)"
   ]
  },
  {
   "cell_type": "code",
   "execution_count": 6,
   "metadata": {},
   "outputs": [
    {
     "name": "stdout",
     "output_type": "stream",
     "text": [
      "\n",
      "Volume limas segitiga jika luas alasnya 39cm dan tinggi 7cm adalah 91 cm2\n"
     ]
    }
   ],
   "source": [
    "# Jawaban Soal No. 1:\n",
    "# Misal, Riska di beri sebuah lego oleh Ayahnya dengan bentuk limas segitiga yang memiliki Luas alas 39cm dan dengan tinggi 7cm,\n",
    "# maka volume limas segitiganya adalah:\n",
    "\n",
    "# RUMUS Menghitung volume limas segitiga: V = 1/3  x  La x t\n",
    "\n",
    "# DIKETAHUI:\n",
    "# Luas alas = 39cm\n",
    "la = 39\n",
    "# tinggi = 7cm\n",
    "tinggi = 7\n",
    "\n",
    "# function untuk menghitung volume limas segitiga, dengan menerima parameter luas alas dan tinggi\n",
    "def hitung_volume_limas_segitiga(la,tinggi):\n",
    "    \n",
    "    # hitung volume limas segitiga dengan rumus dan luas alas dan tinggi yang diberikan\n",
    "    # tampung ke dalam variabel v atau bebas namakan apa saja\n",
    "    v = (1/3) * (la * tinggi)\n",
    "    # outputkan variabel v keluar dari fungsi dan berikan kepada si pemanggil fungsi tersebut\n",
    "    \n",
    "    return int(v)  # saya masukan ke dalam int() untuk membulatkan nilai\n",
    "\n",
    "# panggil fungsi hitung_volume_limas_segitiga diatas, dengan melemparkan parameter luas alas yang 30cm dan tinggi 7cm\n",
    "# lalu tampung ke dalam variabel volume atau bebas namakan apa saja\n",
    "volume = hitung_volume_limas_segitiga(la,tinggi)\n",
    "\n",
    "# print hasil dengan cara:\n",
    "# print(volume) \n",
    "# atau  print(\"Volumenya adalah\", volume) \n",
    "# atau bisa juga seperti dibawah:\n",
    "print ()\n",
    "print(\"Volume limas segitiga jika luas alasnya {}cm dan tinggi {}cm adalah {} cm2\".format(la,tinggi, volume));"
   ]
  },
  {
   "cell_type": "code",
   "execution_count": 21,
   "metadata": {
    "tags": []
   },
   "outputs": [
    {
     "name": "stdout",
     "output_type": "stream",
     "text": [
      "menghitung volume limas segitiga\n",
      "Masukan alas limas segitiga : 65\n",
      "Masukan tinggi limas segitiga : 5\n",
      "Volume limas segitiga jika luas alasnya 65cm dan tingginya 5cm adalah 108 cm3\n",
      "selesai\n",
      "\n",
      "Hitung lagi? ya / tidak = ya\n",
      "menghitung volume limas segitiga\n",
      "Masukan alas limas segitiga : 45\n",
      "Masukan tinggi limas segitiga : 4\n",
      "Volume limas segitiga jika luas alasnya 45cm dan tingginya 4cm adalah 60 cm3\n",
      "selesai\n",
      "\n",
      "Hitung lagi? ya / tidak = tidak\n"
     ]
    }
   ],
   "source": [
    "# Jawaban Soal No. 2:\n",
    "\n",
    "# buat sebuah fungsi seperti di cell pertama diatas\n",
    "def hitung_volume_limas_segitiga( la, tinggi):\n",
    "    # karena berasal dari input user, maka saya harus menkonversikan var luas alas menjadi integer terlebih dahulu\n",
    "    la = int(la)\n",
    "    # karena berasal dari input user, maka saya harus menkonversikan var tinggi menjadi integer terlebih dahulu\n",
    "    tinggi = int(tinggi)\n",
    "\n",
    "    # lalu hitung volumenya dan tampung ke dalam variabel v\n",
    "    v = (1/3) * (la * tinggi)\n",
    "\n",
    "    # outputkan variabel v sambil membulatkannya dengan int()\n",
    "    return int(v)\n",
    "\n",
    "# definisikan variabel bernama konfirmasi berisi string \"Ya\" \n",
    "konfirmasi = \"ya\"\n",
    "\n",
    "# jalankan perulangan selama variabel konfirmasi tidak bernilai \"tidak\"\n",
    "while konfirmasi != \"tidak\":\n",
    "\n",
    "    # ambil luas alas dari inputan user\n",
    "    print (\"menghitung volume limas segitiga\")\n",
    "    la = input(\"Masukan alas limas segitiga : \")\n",
    "    # ambil tinggi dari inputan user\n",
    "    tinggi = input(\"Masukan tinggi limas segitiga : \")\n",
    "\n",
    "    # jalankan fungsi hitung dengan melemparkan luas alas dan tinggi nya, \n",
    "    # lalu tampung ke dalam variabel volume\n",
    "    volume = hitung_volume_limas_segitiga(la, tinggi)\n",
    "\n",
    "    # buat pesan dan hasilnya, \n",
    "    # saya masukan ke dalam variabel pesan biar mudah dipanggil dengan print\n",
    "    pesan = \"Volume limas segitiga jika luas alasnya {}cm dan tingginya {}cm adalah {} cm3\".format(la,tinggi, volume)\n",
    "\n",
    "    # tampilkan pesan dengan print\n",
    "    print(pesan)\n",
    "    \n",
    "    # munculkan input untuk mengkonfirmasi apakah ingin melakukan perhitungan lagi?\n",
    "    # jika user menuliskan \"tidak\", maka perulangan akan berhenti\n",
    "    print (\"selesai\")\n",
    "    # jika ya, perulangan dan penghitungan akan berjalan lagi\n",
    "    print ()\n",
    "    konfirmasi = input(\"Hitung lagi? ya / tidak = \") \n"
   ]
  },
  {
   "cell_type": "code",
   "execution_count": 22,
   "metadata": {},
   "outputs": [
    {
     "name": "stdout",
     "output_type": "stream",
     "text": [
      "mulai = memulai program yg akan dijalankan \n",
      "input data = masukkan nilai luas alas limas segitiga \n",
      "input data = masukkan nilai tinggi limas segitiga \n",
      "output = tampilkan nilai volume limas segitiga \n",
      "while loop berfungsi untuk menjalankan pengulangan ya atau tidak pada flowchart untuk menghitung kembali volume limas segitiga di atas \n",
      "jika ya maka perulangan akan kembali menghitung volume limas segitiga\n",
      "jika tidak maka program akan selesai\n",
      "selesai = makan program yg dijalankan sudah selesai\n"
     ]
    }
   ],
   "source": [
    "# Jawaban Soal No. 3 :\n",
    "print (\"mulai = memulai program yg akan dijalankan \")\n",
    "print (\"input data = masukkan nilai luas alas limas segitiga \")\n",
    "print (\"input data = masukkan nilai tinggi limas segitiga \")\n",
    "print (\"output = tampilkan nilai volume limas segitiga \")\n",
    "print (\"while loop berfungsi untuk menjalankan pengulangan ya atau tidak pada flowchart untuk menghitung kembali volume limas segitiga di atas \")\n",
    "print (\"jika ya maka perulangan akan kembali menghitung volume limas segitiga\")\n",
    "print (\"jika tidak maka program akan selesai\")\n",
    "print (\"selesai = makan program yg dijalankan sudah selesai\")"
   ]
  }
 ],
 "metadata": {
  "kernelspec": {
   "display_name": "Python 3",
   "language": "python",
   "name": "python3"
  },
  "language_info": {
   "codemirror_mode": {
    "name": "ipython",
    "version": 3
   },
   "file_extension": ".py",
   "mimetype": "text/x-python",
   "name": "python",
   "nbconvert_exporter": "python",
   "pygments_lexer": "ipython3",
   "version": "3.9.0"
  }
 },
 "nbformat": 4,
 "nbformat_minor": 2
}
